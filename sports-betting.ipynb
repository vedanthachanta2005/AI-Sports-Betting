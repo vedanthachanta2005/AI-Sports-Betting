{
 "cells": [
  {
   "cell_type": "code",
   "execution_count": null,
   "id": "fa70c3f6",
   "metadata": {},
   "outputs": [],
   "source": [
    "import pandas as pd\n",
    "\n",
    "df = pd.read_csv(\"atp_tennis.csv\")\n",
    "df = df.iloc[27526]\n",
    "df = df.reset_index(drop=True)\n"
   ]
  }
 ],
 "metadata": {
  "language_info": {
   "name": "python"
  }
 },
 "nbformat": 4,
 "nbformat_minor": 5
}
