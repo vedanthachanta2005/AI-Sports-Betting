{
 "cells": [
  {
   "cell_type": "code",
   "execution_count": null,
   "id": "3c58f78f",
   "metadata": {},
   "outputs": [],
   "source": [
    "#hello my name is vedanth\n",
    "#WE need line 27527 cut 0 to 27526\n"
   ]
  }
 ],
 "metadata": {
  "language_info": {
   "name": "python"
  }
 },
 "nbformat": 4,
 "nbformat_minor": 5
}
