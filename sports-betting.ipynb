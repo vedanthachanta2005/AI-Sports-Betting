{
 "cells": [
  {
   "cell_type": "code",
   "execution_count": null,
   "id": "3c58f78f",
   "metadata": {},
   "outputs": [],
   "source": [
    "#hello my name is vedanth\n",
    "#WE need line 27527 cut 0 to 27526\n",
    "import pandas as pd\n",
    "\n",
    "df = pd.read_csv(\"atp_tennis.csv\")\n"
   ]
  },
  {
   "cell_type": "code",
   "execution_count": null,
   "id": "f84e8b23",
   "metadata": {},
   "outputs": [],
   "source": []
  },
  {
   "cell_type": "code",
   "execution_count": null,
   "id": "80f63859",
   "metadata": {},
   "outputs": [],
   "source": []
  },
  {
   "cell_type": "code",
   "execution_count": null,
   "id": "5ba8a750",
   "metadata": {},
   "outputs": [],
   "source": []
  }
 ],
 "metadata": {
  "language_info": {
   "name": "python"
  }
 },
 "nbformat": 4,
 "nbformat_minor": 5
}
