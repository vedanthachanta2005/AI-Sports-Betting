{
 "cells": [
  {
   "cell_type": "code",
   "execution_count": null,
   "id": "3c58f78f",
   "metadata": {},
   "outputs": [],
   "source": [
    "#hello my name is vedanth\n",
    "\n"
   ]
  }
 ],
 "metadata": {
  "language_info": {
   "name": "python"
  }
 },
 "nbformat": 4,
 "nbformat_minor": 5
}
