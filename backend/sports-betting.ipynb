{
 "cells": [
  {
   "cell_type": "code",
   "execution_count": null,
   "id": "fa70c3f6",
   "metadata": {},
   "outputs": [
    {
     "name": "stdout",
     "output_type": "stream",
     "text": [
      "               Tournament        Date  Series    Court Surface      Round  \\\n",
      "0  Brisbane International  2010-01-04  ATP250  Outdoor    Hard  1st Round   \n",
      "1  Brisbane International  2010-01-04  ATP250  Outdoor    Hard  1st Round   \n",
      "2  Brisbane International  2010-01-04  ATP250  Outdoor    Hard  1st Round   \n",
      "3  Brisbane International  2010-01-04  ATP250  Outdoor    Hard  1st Round   \n",
      "4  Brisbane International  2010-01-04  ATP250  Outdoor    Hard  1st Round   \n",
      "\n",
      "   Best of       Player_1    Player_2       Winner  Rank_1  Rank_2  Pts_1  \\\n",
      "0        3     Odesnik W.  Clement A.   Odesnik W.     105      63    521   \n",
      "1        3  Petzschner P.  Gicquel M.   Gicquel M.      80      58    587   \n",
      "2        3       Falla A.   Chardy J.     Falla A.      81      32    587   \n",
      "3        3      Llodra M.     Levy H.      Levy H.      67     119    649   \n",
      "4        3    Bellucci T.  Chela J.I.  Bellucci T.      36      73   1021   \n",
      "\n",
      "   Pts_2  Odd_1  Odd_2        Score  \n",
      "0    667   2.25   1.57      6-4 7-6  \n",
      "1    744   2.20   1.61      3-6 1-6  \n",
      "2   1102   2.62   1.44      6-4 6-4  \n",
      "3    461   1.36   3.00      2-6 0-6  \n",
      "4    611   1.61   2.20  6-3 3-6 6-1  \n",
      "Index(['Tournament', 'Date', 'Series', 'Court', 'Surface', 'Round', 'Best of',\n",
      "       'Player_1', 'Player_2', 'Winner', 'Rank_1', 'Rank_2', 'Pts_1', 'Pts_2',\n",
      "       'Odd_1', 'Odd_2', 'Score'],\n",
      "      dtype='object')\n"
     ]
    }
   ],
   "source": [
    "import pandas as pd\n",
    "import os\n",
    "os.system(\"kaggle datasets download -d dissfya/atp-tennis-2000-2023daily-pull --unzip\")\n",
    "df = pd.read_csv(\"atp_tennis.csv\")\n",
    "df = df.iloc[27526:]\n",
    "df = df.reset_index(drop=True)\n",
    "\n",
    "#print(df.head())\n",
    "#print(df.columns)"
   ]
  },
  {
   "cell_type": "code",
   "execution_count": 8,
   "id": "0bd00634",
   "metadata": {},
   "outputs": [],
   "source": [
    "df = df.dropna(subset=['Player_1', 'Player_2', 'Winner', 'Score', 'Rank_1', 'Rank_2', 'Surface'])\n",
    "df = df[(df['Rank_1'] > 0) & (df['Rank_2'] > 0)]\n"
   ]
  },
  {
   "cell_type": "code",
   "execution_count": null,
   "id": "18646c44",
   "metadata": {},
   "outputs": [],
   "source": [
    "df['label'] = (df['Winner'] == df['Player_1']).astype(int)\n",
    "df['rank_diff'] = df['Rank_2'] - df['Rank_1']\n",
    "#if positive player 1 is higher ranked\n",
    "#if negative player 2 is higer ranked"
   ]
  }
 ],
 "metadata": {
  "kernelspec": {
   "display_name": ".venv",
   "language": "python",
   "name": "python3"
  },
  "language_info": {
   "codemirror_mode": {
    "name": "ipython",
    "version": 3
   },
   "file_extension": ".py",
   "mimetype": "text/x-python",
   "name": "python",
   "nbconvert_exporter": "python",
   "pygments_lexer": "ipython3",
   "version": "3.11.9"
  }
 },
 "nbformat": 4,
 "nbformat_minor": 5
}
