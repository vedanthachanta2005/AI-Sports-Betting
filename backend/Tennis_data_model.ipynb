{
 "cells": [
  {
   "cell_type": "code",
   "execution_count": null,
   "id": "fa70c3f6",
   "metadata": {},
   "outputs": [
    {
     "name": "stdout",
     "output_type": "stream",
     "text": [
      "               Tournament        Date  Series    Court Surface      Round  \\\n",
      "0  Brisbane International  2010-01-04  ATP250  Outdoor    Hard  1st Round   \n",
      "1  Brisbane International  2010-01-04  ATP250  Outdoor    Hard  1st Round   \n",
      "2  Brisbane International  2010-01-04  ATP250  Outdoor    Hard  1st Round   \n",
      "3  Brisbane International  2010-01-04  ATP250  Outdoor    Hard  1st Round   \n",
      "4  Brisbane International  2010-01-04  ATP250  Outdoor    Hard  1st Round   \n",
      "\n",
      "   Best of       Player_1    Player_2       Winner  Rank_1  Rank_2  Pts_1  \\\n",
      "0        3     Odesnik W.  Clement A.   Odesnik W.     105      63    521   \n",
      "1        3  Petzschner P.  Gicquel M.   Gicquel M.      80      58    587   \n",
      "2        3       Falla A.   Chardy J.     Falla A.      81      32    587   \n",
      "3        3      Llodra M.     Levy H.      Levy H.      67     119    649   \n",
      "4        3    Bellucci T.  Chela J.I.  Bellucci T.      36      73   1021   \n",
      "\n",
      "   Pts_2  Odd_1  Odd_2        Score  \n",
      "0    667   2.25   1.57      6-4 7-6  \n",
      "1    744   2.20   1.61      3-6 1-6  \n",
      "2   1102   2.62   1.44      6-4 6-4  \n",
      "3    461   1.36   3.00      2-6 0-6  \n",
      "4    611   1.61   2.20  6-3 3-6 6-1  \n",
      "Index(['Tournament', 'Date', 'Series', 'Court', 'Surface', 'Round', 'Best of',\n",
      "       'Player_1', 'Player_2', 'Winner', 'Rank_1', 'Rank_2', 'Pts_1', 'Pts_2',\n",
      "       'Odd_1', 'Odd_2', 'Score'],\n",
      "      dtype='object')\n"
     ]
    }
   ],
   "source": [
    "import pandas as pd\n",
    "import os\n",
    "os.system(\"kaggle datasets download -d dissfya/atp-tennis-2000-2023daily-pull --unzip\")\n",
    "df = pd.read_csv(\"live_atp_tennis.csv\")\n",
    "df = df.iloc[27526:]\n",
    "df = df.reset_index(drop=True)\n",
    "\n",
    "#print(df.head())\n",
    "#print(df.columns)"
   ]
  },
  {
   "cell_type": "code",
   "execution_count": 8,
   "id": "0bd00634",
   "metadata": {},
   "outputs": [],
   "source": [
    "df = df.dropna(subset=['Player_1', 'Player_2', 'Winner', 'Score', 'Rank_1', 'Rank_2', 'Surface'])\n",
    "df = df[(df['Rank_1'] > 0) & (df['Rank_2'] > 0)]\n"
   ]
  },
  {
   "cell_type": "code",
   "execution_count": null,
   "id": "18646c44",
   "metadata": {},
   "outputs": [],
   "source": [
    "df['label'] = (df['Winner'] == df['Player_1']).astype(int)\n",
    "df['rank_diff'] = df['Rank_2'] - df['Rank_1']\n",
    "#if positive player 1 is higher ranked\n",
    "#if negative player 2 is higer ranked"
   ]
  },
  {
   "cell_type": "code",
   "execution_count": null,
   "id": "681fedf4",
   "metadata": {},
   "outputs": [],
   "source": [
    "#track each players previous matches using a loop\n",
    "from collections import defaultdict\n",
    "from datetime import datetime\n",
    "df['Date'] = pd.to_datetime(df['Date'])\n",
    "#sort the data frame by date. It should already be sorted by date but just making sure\n",
    "df = df.sort_values('Date')\n",
    "#make dictionary and lamda:{'matches': []} is so that we don't constantly have to check \"if player is in dictionary\" each time in the loop.\n",
    "player_stats = defaultdict(lambda: {'matches': []})\n",
    "\n"
   ]
  },
  {
   "cell_type": "code",
   "execution_count": null,
   "id": "70898d65",
   "metadata": {},
   "outputs": [],
   "source": [
    "#Loop through each match row in the DataFrame\n",
    "for idx, row in df.iterrows():\n",
    "    winner = row['Winner']\n",
    "    loser = row['Loser']\n",
    "    match_date = row['Date']\n",
    "\n",
    "    match_details = {\n",
    "        'opponent': loser,\n",
    "        'result': 'win',\n",
    "        'date': match_date,\n",
    "        'row_index': idx  # optionally keep track of the row\n",
    "    }\n",
    "\n",
    "    player_stats[winner]['matches'].append(match_details)\n",
    "\n",
    "    # Do the same for the loser, but mark result as 'loss'\n",
    "    match_details_loser = {\n",
    "        'opponent': winner,\n",
    "        'result': 'loss',\n",
    "        'date': match_date,\n",
    "        'row_index': idx\n",
    "    }\n",
    "    player_stats[loser]['matches'].append(match_details_loser)"
   ]
  },
  {
   "cell_type": "code",
   "execution_count": null,
   "id": "c73e9db0",
   "metadata": {},
   "outputs": [],
   "source": [
    "def get_decay_weight(match_date, current_date, half_life_days=180):\n",
    "    days_old = (current_date - match_date).days\n",
    "    return 0.5 ** (days_old / half_life_days)"
   ]
  },
  {
   "cell_type": "code",
   "execution_count": null,
   "id": "cf32f23d",
   "metadata": {},
   "outputs": [],
   "source": [
    "def calculate_score(p1, p2, row):\n",
    "    current_date = row[\"Date\"]\n",
    "    tournament = row[\"Tournament\"]\n",
    "    surface = row[\"Surface\"]\n",
    "\n",
    "    score = {p1: 0, p2: 0}\n",
    "\n",
    "    # Rank difference\n",
    "    r1, r2 = row['Rank_1'], row['Rank_2']\n",
    "    if pd.notna(r1) and pd.notna(r2):\n",
    "        if r1 < r2:\n",
    "            score[p1] += 10\n",
    "        elif r2 < r1:\n",
    "            score[p2] += 10\n",
    "\n",
    "    # Previous matchups (with decay)\n",
    "    for player, opponent in [(p1, p2), (p2, p1)]:\n",
    "        for match in player_stats[player]['matches']:\n",
    "            if match['opponent'] == opponent:\n",
    "                w = get_decay_weight(match['date'], current_date)\n",
    "                if match['result'] == 'win':\n",
    "                    score[player] += 5 * w\n",
    "\n",
    "    # Recent form: win streak in last 5\n",
    "    for player in [p1, p2]:\n",
    "        recent = player_stats[player]['matches'][-5:]\n",
    "        for match in recent:\n",
    "            w = get_decay_weight(match['date'], current_date)\n",
    "            if match['result'] == 'win':\n",
    "                score[player] += 2 * w\n",
    "\n",
    "    # Surface performance\n",
    "    for player in [p1, p2]:\n",
    "        wins_on_surface = sum(\n",
    "            get_decay_weight(m['date'], current_date)\n",
    "            for m in player_stats[player]['matches']\n",
    "            if m['surface'] == surface and m['result'] == 'win'\n",
    "        )\n",
    "        if wins_on_surface > 0:\n",
    "            score[player] += 5\n",
    "\n",
    "    # Tournament history\n",
    "    for player in [p1, p2]:\n",
    "        wins_in_tournament = sum(\n",
    "            get_decay_weight(m['date'], current_date)\n",
    "            for m in player_stats[player]['matches']\n",
    "            if m['tournament'] == tournament and m['result'] == 'win'\n",
    "        )\n",
    "        if wins_in_tournament > 0:\n",
    "            score[player] += 10\n",
    "\n",
    "    return score"
   ]
  },
  {
   "cell_type": "code",
   "execution_count": null,
   "id": "39a5d6b8",
   "metadata": {},
   "outputs": [],
   "source": [
    "correct = 0\n",
    "total = 0\n",
    "predictions = []\n",
    "\n",
    "for idx, row in df.iterrows():\n",
    "    p1 = row['Player_1']\n",
    "    p2 = row['Player_2']\n",
    "    winner = row['Winner']\n",
    "\n",
    "    if p1 not in player_stats or p2 not in player_stats:\n",
    "        continue  # need match history\n",
    "\n",
    "    scores = calculate_score(p1, p2, row)\n",
    "    predicted = max(scores, key=scores.get)\n",
    "    confidence = abs(scores[p1] - scores[p2])\n",
    "\n",
    "    predictions.append({\n",
    "        'index': idx,\n",
    "        'p1': p1,\n",
    "        'p2': p2,\n",
    "        'winner': winner,\n",
    "        'predicted': predicted,\n",
    "        'confidence': confidence\n",
    "    })\n",
    "\n",
    "    if predicted == winner:\n",
    "        correct += 1\n",
    "    total += 1\n",
    "\n",
    "print(f\"Prediction Accuracy: {correct}/{total} = {correct/total:.2%}\")"
   ]
  },
  {
   "cell_type": "code",
   "execution_count": null,
   "id": "aa1ab4df",
   "metadata": {},
   "outputs": [],
   "source": [
    "parlay_slip = sorted(predictions, key=lambda x: x['confidence'], reverse=True)[:5]\n",
    "for match in parlay_slip:\n",
    "    print(f\"{match['p1']} vs {match['p2']} → Predicted: {match['predicted']} (Confidence: {match['confidence']:.2f})\")"
   ]
  },
  {
   "cell_type": "code",
   "execution_count": null,
   "id": "a60b4ae9",
   "metadata": {},
   "outputs": [],
   "source": [
    "predictions_sorted = sorted(predictions, key=lambda x: x['confidence'], reverse=True)\n",
    "top_n = 5\n",
    "parlay_slip = predictions_sorted[:top_n]"
   ]
  },
  {
   "cell_type": "code",
   "execution_count": null,
   "id": "ae896c5d",
   "metadata": {},
   "outputs": [],
   "source": [
    "print(\"\\n Recommended Parlay Slip:\")\n",
    "for match in parlay_slip:\n",
    "    print(f\"{match['p1']} vs {match['p2']} → Predicted: {match['predicted']} | Confidence: {match['confidence']:.2f}\")"
   ]
  }
 ],
 "metadata": {
  "kernelspec": {
   "display_name": ".venv",
   "language": "python",
   "name": "python3"
  },
  "language_info": {
   "codemirror_mode": {
    "name": "ipython",
    "version": 3
   },
   "file_extension": ".py",
   "mimetype": "text/x-python",
   "name": "python",
   "nbconvert_exporter": "python",
   "pygments_lexer": "ipython3",
   "version": "3.11.9"
  }
 },
 "nbformat": 4,
 "nbformat_minor": 5
}
